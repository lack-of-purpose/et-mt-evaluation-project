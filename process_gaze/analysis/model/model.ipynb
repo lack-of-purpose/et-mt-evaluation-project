{
 "cells": [
  {
   "cell_type": "code",
   "execution_count": 1,
   "metadata": {},
   "outputs": [
    {
     "name": "stdout",
     "output_type": "stream",
     "text": [
      "Optimization terminated successfully.\n",
      "         Current function value: 0.685462\n",
      "         Iterations 4\n"
     ]
    },
    {
     "data": {
      "text/html": [
       "<table class=\"simpletable\">\n",
       "<caption>Logit Regression Results</caption>\n",
       "<tr>\n",
       "  <th>Dep. Variable:</th>        <td>choice</td>      <th>  No. Observations:  </th>  <td>    90</td> \n",
       "</tr>\n",
       "<tr>\n",
       "  <th>Model:</th>                 <td>Logit</td>      <th>  Df Residuals:      </th>  <td>    84</td> \n",
       "</tr>\n",
       "<tr>\n",
       "  <th>Method:</th>                 <td>MLE</td>       <th>  Df Model:          </th>  <td>     5</td> \n",
       "</tr>\n",
       "<tr>\n",
       "  <th>Date:</th>            <td>Sun, 01 Dec 2024</td> <th>  Pseudo R-squ.:     </th> <td>0.005411</td>\n",
       "</tr>\n",
       "<tr>\n",
       "  <th>Time:</th>                <td>20:22:12</td>     <th>  Log-Likelihood:    </th> <td> -61.692</td>\n",
       "</tr>\n",
       "<tr>\n",
       "  <th>converged:</th>             <td>True</td>       <th>  LL-Null:           </th> <td> -62.027</td>\n",
       "</tr>\n",
       "<tr>\n",
       "  <th>Covariance Type:</th>     <td>nonrobust</td>    <th>  LLR p-value:       </th>  <td>0.9845</td> \n",
       "</tr>\n",
       "</table>\n",
       "<table class=\"simpletable\">\n",
       "<tr>\n",
       "         <td></td>           <th>coef</th>     <th>std err</th>      <th>z</th>      <th>P>|z|</th>  <th>[0.025</th>    <th>0.975]</th>  \n",
       "</tr>\n",
       "<tr>\n",
       "  <th>fixations_tgt1</th> <td>    0.0134</td> <td>    0.030</td> <td>    0.450</td> <td> 0.653</td> <td>   -0.045</td> <td>    0.072</td>\n",
       "</tr>\n",
       "<tr>\n",
       "  <th>jumps_tgt1</th>     <td>   -0.0132</td> <td>    0.029</td> <td>   -0.456</td> <td> 0.649</td> <td>   -0.070</td> <td>    0.044</td>\n",
       "</tr>\n",
       "<tr>\n",
       "  <th>time_tgt1</th>      <td>    0.0006</td> <td>    0.001</td> <td>    0.536</td> <td> 0.592</td> <td>   -0.002</td> <td>    0.003</td>\n",
       "</tr>\n",
       "<tr>\n",
       "  <th>fixations_tgt2</th> <td>   -0.0168</td> <td>    0.035</td> <td>   -0.485</td> <td> 0.628</td> <td>   -0.085</td> <td>    0.051</td>\n",
       "</tr>\n",
       "<tr>\n",
       "  <th>jumps_tgt2</th>     <td>    0.0173</td> <td>    0.033</td> <td>    0.519</td> <td> 0.604</td> <td>   -0.048</td> <td>    0.083</td>\n",
       "</tr>\n",
       "<tr>\n",
       "  <th>time_tgt2</th>      <td>   -0.0008</td> <td>    0.002</td> <td>   -0.473</td> <td> 0.636</td> <td>   -0.004</td> <td>    0.003</td>\n",
       "</tr>\n",
       "</table>"
      ],
      "text/plain": [
       "<class 'statsmodels.iolib.summary.Summary'>\n",
       "\"\"\"\n",
       "                           Logit Regression Results                           \n",
       "==============================================================================\n",
       "Dep. Variable:                 choice   No. Observations:                   90\n",
       "Model:                          Logit   Df Residuals:                       84\n",
       "Method:                           MLE   Df Model:                            5\n",
       "Date:                Sun, 01 Dec 2024   Pseudo R-squ.:                0.005411\n",
       "Time:                        20:22:12   Log-Likelihood:                -61.692\n",
       "converged:                       True   LL-Null:                       -62.027\n",
       "Covariance Type:            nonrobust   LLR p-value:                    0.9845\n",
       "==================================================================================\n",
       "                     coef    std err          z      P>|z|      [0.025      0.975]\n",
       "----------------------------------------------------------------------------------\n",
       "fixations_tgt1     0.0134      0.030      0.450      0.653      -0.045       0.072\n",
       "jumps_tgt1        -0.0132      0.029     -0.456      0.649      -0.070       0.044\n",
       "time_tgt1          0.0006      0.001      0.536      0.592      -0.002       0.003\n",
       "fixations_tgt2    -0.0168      0.035     -0.485      0.628      -0.085       0.051\n",
       "jumps_tgt2         0.0173      0.033      0.519      0.604      -0.048       0.083\n",
       "time_tgt2         -0.0008      0.002     -0.473      0.636      -0.004       0.003\n",
       "==================================================================================\n",
       "\"\"\""
      ]
     },
     "execution_count": 1,
     "metadata": {},
     "output_type": "execute_result"
    }
   ],
   "source": [
    "import statsmodels.api as sm\n",
    "import pandas as pd\n",
    "full_data = pd.read_csv('data-participant1.csv')\n",
    "target = full_data.loc[:,'choice']\n",
    "train_sm = full_data.drop(columns=['choice'], axis=1)\n",
    "train_sm.head()\n",
    "model = sm.Logit(target, train_sm).fit(maxiter=100)\n",
    "model.summary()"
   ]
  }
 ],
 "metadata": {
  "kernelspec": {
   "display_name": "Python 3",
   "language": "python",
   "name": "python3"
  },
  "language_info": {
   "codemirror_mode": {
    "name": "ipython",
    "version": 3
   },
   "file_extension": ".py",
   "mimetype": "text/x-python",
   "name": "python",
   "nbconvert_exporter": "python",
   "pygments_lexer": "ipython3",
   "version": "3.11.2"
  },
  "orig_nbformat": 4
 },
 "nbformat": 4,
 "nbformat_minor": 2
}
